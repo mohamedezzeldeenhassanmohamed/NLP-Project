{
 "cells": [
  {
   "cell_type": "code",
   "execution_count": 1,
   "metadata": {
    "colab": {
     "base_uri": "https://localhost:8080/"
    },
    "id": "hksC1eEbmXvj",
    "outputId": "53faefb4-8668-4e0c-f731-b575c2941650"
   },
   "outputs": [
    {
     "name": "stdout",
     "output_type": "stream",
     "text": [
      "Enter the URL: https://python-adv-web-apps.readthedocs.io/en/latest/learn_python.html\n",
      "Starting Python¶\n",
      "To begin learning Python, read chapters 1 and 2 in Sweigart’s Automate the Boring Stuff with Python (second edition). Some scripts in this folder are based on Sweigart’s — naturally, he has more examples than only these. At his website, there’s a link to download files used in the book.\n",
      "Python scripts for this section\n",
      "Install Python¶\n",
      "If you haven’t installed Python yet, I made a Google doc for that:\n",
      "Getting Started with Python 3\n",
      "Two other helpful docs are linked on the CONTENTS page (under “Outside Resources”):\n",
      "Contents page\n",
      "Interactively learning Python¶\n",
      "Start by running simple expressions and statements in the interactive Python interpreter (interactive shell). Open Terminal (Mac) or Command Prompt (Windows). Type python3 (Mac) or python (Windows) at the prompt to start the interpreter. When you see >>>, you’re in the shell. This will help you get comfortable with variables and basic math operators:\n",
      "Attention\n",
      "It’s very important to play with these simple statements and try things. Do not only type what is in the book or what you see here. Make up your own examples and try them. Type to understand how things work. If you don’t type the code yourself, you will not learn it.\n",
      "Using Mu¶\n",
      "In his Introduction, Sweigart recommends using the Mu editing program, which you can download (free) for Mac or Windows.\n",
      "If you are using Mu, you can type Python code interactively into the segment labeled “Python3 (Jupyter) REPL” instead of using Terminal or Command Prompt.\n",
      "Saving Python scripts and running them¶\n",
      "If you use Mu, you can write and save your Python scripts in the upper segment. When you run the script, the results will appear in the segment labeled “Running: filename.py.” Python scripts must end with a .py extension.\n",
      "Instead of Mu, you can use Atom, our trusted code editor, to write and save your Python scripts. Code is code. You can write any code in Atom. Instead of saving the file with a .html or .js extension, just save it with a .py extension when it is a Python file.\n",
      "If you write and save the file in Atom, how do you run it?\n",
      "It’s easiest if you are in the same directory where the .py file was saved. Use the cd command (Command Line Tips) to get there.\n",
      "At the command prompt ($ in Mac, C:\\Users\\yourname> in Windows), type this (using your actual filename, of course):\n",
      "And it runs! (Mac users: If not in a virtualenv, type python3 instead of python.)\n",
      "Tip\n",
      "Never try to run a file at the >>> Python shell prompt. You need to be at the command prompt to run a file.\n",
      "Your first Python program¶\n",
      "This is from Sweigart’s chapter 1 (pp. 11–13). After you’ve practiced basic expressions and variables in the interactive shell, you need to learn how to save a script as a file and run it.\n",
      "You can use Mu, or you can write the script in Atom and run it in the Terminal.\n",
      "Attention\n",
      "Make sure to note exactly where you save the .py file. You need to know where it is on your computer so that you can run it!\n",
      "This interactive program says hello and asks for your name and age. It assigns your name and age to variables. It then uses the variables to print out strings, which will differ depending on what you responded.\n",
      "These Python built-in functions are demonstrated in the interactive program:\n",
      "print()\n",
      "input()\n",
      "len()\n",
      "int()\n",
      "str()\n",
      "Note\n",
      "All the code in the program is explained in Sweigart’s chapter 1.\n",
      "Here’s what the program looks like in Atom:\n",
      "Here’s how I ran it in Terminal (note, I made a folder named automate for my files from the book):\n",
      "Code blocks and indentation¶\n",
      "Python relies on consistent indentation of all code blocks. You need to pick a number of spaces (or use only tabs) and stick with it. Your code will throw errors if you are inconsistent.\n",
      "Note how the indents are exactly the same for each code block.\n",
      "Tip\n",
      "When you run the code for an example, try entering many combinations and try to understand each result. For the script above, enter a name other than Alice and an age above 13, as well as Alice and an age below 13. By  entering different name and age values, you should be able to figure out how conditional statements work together.\n",
      "Chapter review: chapters 1 and 2¶\n",
      "These are the takeaways from the first two chapters.\n",
      "Chapter 1¶\n",
      "Use the interactive Python shell to enter basic math expressions and get results (using the math operators)\n",
      "Compare the output from 23 / 7 and 23 // 7\n",
      "Exponents, e.g. 2 ** 4\n",
      "Order of operations: PEMDAS\n",
      "Main data types: string, float, integer\n",
      "String concatenation, e.g. 'Alice' + 'Bob'\n",
      "String replication, e.g. 'Alice' * 5\n",
      "Assign a value to a variable with =\n",
      "Rules for variable names: No spaces. Use only letters, numbers, and the underscore (_) character. Cannot begin with a number. Case sensitive. (p. 11)\n",
      "Comments start with #\n",
      "print() function\n",
      "input() function — assign user input to a variable: answer = input()\n",
      "len() function\n",
      "str(), int(), and float() functions — when we insert a numeral into a string, for example (pp. 15–18)\n",
      "Chapter 2¶\n",
      "The Boolean data type: True, False\n",
      "Comparison operators, e.g. greater than, less than\n",
      "Difference between == and = (what do they do?)\n",
      "Boolean operators: and, or, not\n",
      "Conditions and blocks (pp. 27-28)\n",
      "Flow control statements\n",
      "if statements — they will evaluate to True or False\n",
      "else and elif statements\n",
      "while loops\n",
      "break statements\n",
      "continue statements\n",
      "for loops with range()\n",
      "Press Control-C to break out of an infinite loop\n",
      "What is an infinite loop?\n",
      "“When used in conditions, 0, 0.0, and '' (the empty string) are considered False, while all other values are considered True.” (Truthiness, p. 43)\n",
      "The random module, from Python’s standard library\n",
      "Use of the import statement\n",
      "Use of random.randint()\n",
      "Slides: chapters 1 and 2¶\n",
      "Python Review 1\n"
     ]
    }
   ],
   "source": [
    "import requests\n",
    "import warnings\n",
    "from bs4 import BeautifulSoup\n",
    "from urllib.parse import urljoin\n",
    "from concurrent.futures import ThreadPoolExecutor\n",
    "\n",
    "# Set of visited URLs to avoid duplicate scraping\n",
    "visited_urls = set()\n",
    "\n",
    "# Set of seen document content to avoid repeating output\n",
    "seen_doc_content = set()\n",
    "\n",
    "def scrape_page(url, max_depth=1, current_depth=0):\n",
    "    # Get the HTML content of the URL\n",
    "    response = requests.get(url)\n",
    "    html_content = response.content\n",
    "\n",
    "    # Parse the HTML content using BeautifulSoup\n",
    "    soup = BeautifulSoup(html_content, 'html.parser')\n",
    "\n",
    "    # Find the main content section of the page\n",
    "    main_content = soup.find('div', {'class': 'section'})\n",
    "\n",
    "    if main_content is None:\n",
    "        # No main content section found, skip scraping this page\n",
    "        return\n",
    "\n",
    "    # Extract the relevant content from the main content section\n",
    "    doc_content = '\\n'.join(element.text.strip() for element in main_content.find_all(['h1', 'h2', 'h3', 'h4', 'h5', 'p']))\n",
    "\n",
    "    # Display the extracted content to the user\n",
    "    if doc_content not in seen_doc_content:\n",
    "        print(doc_content)\n",
    "        seen_doc_content.add(doc_content)\n",
    "\n",
    "    # Find all the links within the page\n",
    "    urls = [urljoin(url, link.get('href')) for link in soup.find_all('a') if link.get('href') and link.parent.name != 'div' and link.parent.get('class') != 'wy-nav-content' and link['href'].startswith(url)]\n",
    "\n",
    "    # Recursively scrape each link\n",
    "    with ThreadPoolExecutor() as executor:\n",
    "        futures = []\n",
    "        for link in urls:\n",
    "            if current_depth < max_depth and link not in visited_urls:\n",
    "                visited_urls.add(link)\n",
    "                future = executor.submit(scrape_page, link, max_depth, current_depth + 1)\n",
    "                futures.append(future)\n",
    "\n",
    "        # Wait for all tasks to complete\n",
    "        for future in futures:\n",
    "            future.result()\n",
    "\n",
    "# Get the initial URL\n",
    "initial_url = input(\"Enter the URL: \")\n",
    "\n",
    "# Start scraping from the initial URL\n",
    "scrape_page(initial_url, max_depth=3)\n",
    "\n",
    "# Open the text file for writing\n",
    "with open('output.txt', 'w') as file:\n",
    "    file.write('\\n'.join(seen_doc_content))\n"
   ]
  },
  {
   "cell_type": "code",
   "execution_count": 4,
   "metadata": {
    "colab": {
     "base_uri": "https://localhost:8080/"
    },
    "id": "kEwABdC8K38T",
    "outputId": "15d04c10-b998-41ed-cb34-354d43f4a66e"
   },
   "outputs": [
    {
     "name": "stdout",
     "output_type": "stream",
     "text": [
      "Start by running simple expressions and statements in the interactive Python interpreter. If you don’t type the code yourself, you will not learn it. After you’ve practiced basic expressions and variables, you need to learn how to save a script as a file and run it.\n"
     ]
    }
   ],
   "source": [
    "from transformers import AutoTokenizer, AutoModelForSeq2SeqLM\n",
    "\n",
    "tokenizer = AutoTokenizer.from_pretrained(\"facebook/bart-large-cnn\")\n",
    "model = AutoModelForSeq2SeqLM.from_pretrained(\"facebook/bart-large-cnn\")\n",
    "\n",
    "with open(\"output.txt\", \"r\") as file:\n",
    "    text = file.read()\n",
    "\n",
    "inputs = tokenizer([text], truncation=True, padding=True, max_length=1024, return_tensors=\"pt\")\n",
    "summary_ids = model.generate(inputs[\"input_ids\"], num_beams=4, max_length=100, early_stopping=True)\n",
    "summary = tokenizer.decode(summary_ids[0], skip_special_tokens=True)\n",
    "\n",
    "print(summary)\n",
    "\n",
    "with open(\"summ.txt\", \"w\") as file:\n",
    "    file.write(summary)"
   ]
  },
  {
   "cell_type": "code",
   "execution_count": 5,
   "metadata": {
    "colab": {
     "base_uri": "https://localhost:8080/"
    },
    "id": "bnyeQV9MUxpF",
    "outputId": "bf33cd0e-99f3-49eb-a934-7df7272e0f79"
   },
   "outputs": [],
   "source": [
    "from transformers import AutoTokenizer, AutoModelForCausalLM\n",
    "\n",
    "# Load the tokenizer and model\n",
    "tokenizer = AutoTokenizer.from_pretrained(\"codeparrot/codeparrot-small-code-to-text\")\n",
    "model = AutoModelForCausalLM.from_pretrained(\"codeparrot/codeparrot-small-code-to-text\")\n",
    "\n",
    "def gencode(txt):\n",
    "    \n",
    "    # Tokenize the prompt\n",
    "    input_ids = tokenizer.encode(txt, return_tensors=\"pt\")\n",
    "\n",
    "    # Generate code\n",
    "    output = model.generate(input_ids, max_length=100, num_return_sequences=1, num_beams=5)\n",
    "\n",
    "    # Decode the generated code\n",
    "    generated_code = tokenizer.decode(output[0], skip_special_tokens=True)\n",
    "\n",
    "    # Print the generated code\n",
    "    return generated_code"
   ]
  },
  {
   "cell_type": "code",
   "execution_count": null,
   "metadata": {
    "id": "1YVLDocCUWoD"
   },
   "outputs": [],
   "source": []
  },
  {
   "cell_type": "code",
   "execution_count": null,
   "metadata": {},
   "outputs": [],
   "source": []
  }
 ],
 "metadata": {
  "colab": {
   "provenance": []
  },
  "kernelspec": {
   "display_name": "Python 3 (ipykernel)",
   "language": "python",
   "name": "python3"
  },
  "language_info": {
   "codemirror_mode": {
    "name": "ipython",
    "version": 3
   },
   "file_extension": ".py",
   "mimetype": "text/x-python",
   "name": "python",
   "nbconvert_exporter": "python",
   "pygments_lexer": "ipython3",
   "version": "3.9.15"
  }
 },
 "nbformat": 4,
 "nbformat_minor": 1
}
